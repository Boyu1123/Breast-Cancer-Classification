{
  "nbformat": 4,
  "nbformat_minor": 0,
  "metadata": {
    "colab": {
      "name": "Untitled0.ipynb",
      "provenance": [],
      "collapsed_sections": [],
      "machine_shape": "hm"
    },
    "kernelspec": {
      "name": "python3",
      "display_name": "Python 3"
    }
  },
  "cells": [
    {
      "cell_type": "code",
      "metadata": {
        "id": "qBICJiDlLhp0",
        "colab_type": "code",
        "colab": {}
      },
      "source": [
        "import os\n",
        "from pydrive.auth import GoogleAuth\n",
        "from pydrive.drive import GoogleDrive\n",
        "from google.colab import auth\n",
        "from oauth2client.client import GoogleCredentials"
      ],
      "execution_count": 0,
      "outputs": []
    },
    {
      "cell_type": "code",
      "metadata": {
        "id": "jKANBJqXSiVN",
        "colab_type": "code",
        "outputId": "1c9fe294-1f96-4632-d5b5-7adceb1821fe",
        "colab": {
          "base_uri": "https://localhost:8080/",
          "height": 122
        }
      },
      "source": [
        "from google.colab import drive\n",
        "drive.mount('/content/drive')"
      ],
      "execution_count": 3,
      "outputs": [
        {
          "output_type": "stream",
          "text": [
            "Go to this URL in a browser: https://accounts.google.com/o/oauth2/auth?client_id=947318989803-6bn6qk8qdgf4n4g3pfee6491hc0brc4i.apps.googleusercontent.com&redirect_uri=urn%3aietf%3awg%3aoauth%3a2.0%3aoob&response_type=code&scope=email%20https%3a%2f%2fwww.googleapis.com%2fauth%2fdocs.test%20https%3a%2f%2fwww.googleapis.com%2fauth%2fdrive%20https%3a%2f%2fwww.googleapis.com%2fauth%2fdrive.photos.readonly%20https%3a%2f%2fwww.googleapis.com%2fauth%2fpeopleapi.readonly\n",
            "\n",
            "Enter your authorization code:\n",
            "··········\n",
            "Mounted at /content/drive\n"
          ],
          "name": "stdout"
        }
      ]
    },
    {
      "cell_type": "code",
      "metadata": {
        "id": "2hEDq--EsPYu",
        "colab_type": "code",
        "outputId": "83b0f0c7-84bf-4a98-dbca-732b0d353482",
        "colab": {
          "base_uri": "https://localhost:8080/",
          "height": 122
        }
      },
      "source": [
        "!pip install pydicom"
      ],
      "execution_count": 4,
      "outputs": [
        {
          "output_type": "stream",
          "text": [
            "Collecting pydicom\n",
            "\u001b[?25l  Downloading https://files.pythonhosted.org/packages/53/e6/4cae2b4b2fdbea5e2ddd188361139606d8f10f710ba1abecd6600da099c3/pydicom-1.4.2-py2.py3-none-any.whl (35.3MB)\n",
            "\u001b[K     |████████████████████████████████| 35.3MB 118kB/s \n",
            "\u001b[?25hInstalling collected packages: pydicom\n",
            "Successfully installed pydicom-1.4.2\n"
          ],
          "name": "stdout"
        }
      ]
    },
    {
      "cell_type": "code",
      "metadata": {
        "id": "l393dpoGLlCi",
        "colab_type": "code",
        "colab": {}
      },
      "source": [
        "auth.authenticate_user()\n",
        "gauth = GoogleAuth()\n",
        "gauth.credentials = GoogleCredentials.get_application_default()\n",
        "drive = GoogleDrive(gauth)"
      ],
      "execution_count": 0,
      "outputs": []
    },
    {
      "cell_type": "code",
      "metadata": {
        "id": "nDZ958W8c0IW",
        "colab_type": "code",
        "colab": {}
      },
      "source": [
        "download = drive.CreateFile({'id': '15PDQTiTLwT_7ruA27hy-fltsUoo-mN2v'})\n",
        "#download image-path-csv"
      ],
      "execution_count": 0,
      "outputs": []
    },
    {
      "cell_type": "code",
      "metadata": {
        "id": "2GN6b4-gezUk",
        "colab_type": "code",
        "outputId": "f6eff6c1-f6a3-4752-e403-a5e6d920bb76",
        "colab": {
          "base_uri": "https://localhost:8080/",
          "height": 204
        }
      },
      "source": [
        "download.GetContentFile('final_paths.zip')\n",
        "!unzip final_paths.zip"
      ],
      "execution_count": 7,
      "outputs": [
        {
          "output_type": "stream",
          "text": [
            "Archive:  final_paths.zip\n",
            "  inflating: calc_case_description_test_set.csv  \n",
            "  inflating: __MACOSX/._calc_case_description_test_set.csv  \n",
            "  inflating: calc_case_description_train_set.csv  \n",
            "  inflating: __MACOSX/._calc_case_description_train_set.csv  \n",
            "  inflating: train_data(1).csv       \n",
            "  inflating: __MACOSX/._train_data(1).csv  \n",
            "  inflating: train_data(2).csv       \n",
            "  inflating: __MACOSX/._train_data(2).csv  \n",
            "  inflating: train_data(3).csv       \n",
            "  inflating: __MACOSX/._train_data(3).csv  \n"
          ],
          "name": "stdout"
        }
      ]
    },
    {
      "cell_type": "code",
      "metadata": {
        "id": "cJx3jOXzLyJ7",
        "colab_type": "code",
        "colab": {}
      },
      "source": [
        "download = drive.CreateFile({'id': '1763XJMuw1HVGDiWcyPhHlnrub2-H8rIv'})\n",
        "#download train-set-1"
      ],
      "execution_count": 0,
      "outputs": []
    },
    {
      "cell_type": "code",
      "metadata": {
        "id": "zDZMifONL2Se",
        "colab_type": "code",
        "colab": {}
      },
      "source": [
        "download.GetContentFile('CBIS_DDSM_Calc_Training1.zip')\n",
        "!unzip CBIS_DDSM_Calc_Training1.zip"
      ],
      "execution_count": 0,
      "outputs": []
    },
    {
      "cell_type": "code",
      "metadata": {
        "id": "BW_HwBJJurWB",
        "colab_type": "code",
        "colab": {}
      },
      "source": [
        "!rm CBIS_DDSM_Calc_Training1.zip\n",
        "#Delete the train_set_1.zip to save disk space"
      ],
      "execution_count": 0,
      "outputs": []
    },
    {
      "cell_type": "code",
      "metadata": {
        "id": "amWJ8bptcHQG",
        "colab_type": "code",
        "colab": {}
      },
      "source": [
        "download = drive.CreateFile({'id': '1aJt2HXHwkhJLIrtDYseGYmT2JWW2bTtw'})\n",
        "#download train-set-2"
      ],
      "execution_count": 0,
      "outputs": []
    },
    {
      "cell_type": "code",
      "metadata": {
        "id": "-XuQNW9zeQuf",
        "colab_type": "code",
        "colab": {}
      },
      "source": [
        "download.GetContentFile('CBIS_DDSM_Calc_Training2.zip')\n",
        "!unzip CBIS_DDSM_Calc_Training2.zip"
      ],
      "execution_count": 0,
      "outputs": []
    },
    {
      "cell_type": "code",
      "metadata": {
        "id": "QxB8m6Qgvdap",
        "colab_type": "code",
        "colab": {}
      },
      "source": [
        "!rm CBIS_DDSM_Calc_Training2.zip\n",
        "#Delete the train_set_2.zip to save disk space"
      ],
      "execution_count": 0,
      "outputs": []
    },
    {
      "cell_type": "code",
      "metadata": {
        "id": "i2dD7SuYcZIM",
        "colab_type": "code",
        "colab": {}
      },
      "source": [
        "download = drive.CreateFile({'id': '1xj5ZGZZ_PqNlbulU0lB2gWAKWy9j3XBg'})\n",
        "#download train-set-3"
      ],
      "execution_count": 0,
      "outputs": []
    },
    {
      "cell_type": "code",
      "metadata": {
        "id": "pg6aaY-2ehe5",
        "colab_type": "code",
        "colab": {}
      },
      "source": [
        "download.GetContentFile('CBIS_DDSM_Calc_Training3.zip')\n",
        "!unzip CBIS_DDSM_Calc_Training3.zip\n",
        "#till now all training data are loaded"
      ],
      "execution_count": 0,
      "outputs": []
    },
    {
      "cell_type": "code",
      "metadata": {
        "id": "-g9-KwJsGEhi",
        "colab_type": "code",
        "colab": {}
      },
      "source": [
        "!rm CBIS_DDSM_Calc_Training3.zip\n",
        "#Delete the train_set_3.zip to save disk space"
      ],
      "execution_count": 0,
      "outputs": []
    },
    {
      "cell_type": "code",
      "metadata": {
        "id": "HV_W0nCRL478",
        "colab_type": "code",
        "colab": {
          "base_uri": "https://localhost:8080/",
          "height": 34
        },
        "outputId": "49dcb49b-70e2-448e-f759-c2d0745639da"
      },
      "source": [
        "import keras\n",
        "from keras.models import Sequential\n",
        "from keras.layers import Dense, Dropout, Flatten\n",
        "from keras.layers import Conv2D, MaxPooling2D\n",
        "from keras.utils import to_categorical\n",
        "from keras.preprocessing import image\n",
        "import numpy as np\n",
        "import pandas as pd\n",
        "import matplotlib.pyplot as plt\n",
        "from sklearn.model_selection import train_test_split\n",
        "from keras.utils import to_categorical\n",
        "from tqdm import tqdm\n",
        "import cv2\n",
        "import pydicom\n",
        "from PIL.Image import fromarray\n",
        "from os import path\n",
        "from PIL import Image\n",
        "from PIL import ImageEnhance"
      ],
      "execution_count": 17,
      "outputs": [
        {
          "output_type": "stream",
          "text": [
            "Using TensorFlow backend.\n"
          ],
          "name": "stderr"
        }
      ]
    },
    {
      "cell_type": "code",
      "metadata": {
        "id": "PnunL6WIQ2_V",
        "colab_type": "code",
        "colab": {}
      },
      "source": [
        "my_train = pd.read_csv('calc_case_description_train_set.csv')"
      ],
      "execution_count": 0,
      "outputs": []
    },
    {
      "cell_type": "code",
      "metadata": {
        "id": "pUyYV_yYRHU3",
        "colab_type": "code",
        "colab": {
          "base_uri": "https://localhost:8080/",
          "height": 360
        },
        "outputId": "7f2dd749-429c-4853-b018-a8a51ff846b9"
      },
      "source": [
        "my_train.head()"
      ],
      "execution_count": 19,
      "outputs": [
        {
          "output_type": "execute_result",
          "data": {
            "text/html": [
              "<div>\n",
              "<style scoped>\n",
              "    .dataframe tbody tr th:only-of-type {\n",
              "        vertical-align: middle;\n",
              "    }\n",
              "\n",
              "    .dataframe tbody tr th {\n",
              "        vertical-align: top;\n",
              "    }\n",
              "\n",
              "    .dataframe thead th {\n",
              "        text-align: right;\n",
              "    }\n",
              "</style>\n",
              "<table border=\"1\" class=\"dataframe\">\n",
              "  <thead>\n",
              "    <tr style=\"text-align: right;\">\n",
              "      <th></th>\n",
              "      <th>patient_id</th>\n",
              "      <th>breast density</th>\n",
              "      <th>left or right breast</th>\n",
              "      <th>image view</th>\n",
              "      <th>abnormality id</th>\n",
              "      <th>abnormality type</th>\n",
              "      <th>calc type</th>\n",
              "      <th>calc distribution</th>\n",
              "      <th>assessment</th>\n",
              "      <th>pathology</th>\n",
              "      <th>subtlety</th>\n",
              "      <th>image file path</th>\n",
              "      <th>cropped image file path</th>\n",
              "      <th>ROI mask file path</th>\n",
              "    </tr>\n",
              "  </thead>\n",
              "  <tbody>\n",
              "    <tr>\n",
              "      <th>0</th>\n",
              "      <td>P_00005</td>\n",
              "      <td>3</td>\n",
              "      <td>RIGHT</td>\n",
              "      <td>CC</td>\n",
              "      <td>1</td>\n",
              "      <td>calcification</td>\n",
              "      <td>AMORPHOUS</td>\n",
              "      <td>CLUSTERED</td>\n",
              "      <td>3</td>\n",
              "      <td>MALIGNANT</td>\n",
              "      <td>3</td>\n",
              "      <td>Calc-Training_P_00005_RIGHT_CC/1.3.6.1.4.1.959...</td>\n",
              "      <td>Calc-Training_P_00005_RIGHT_CC_1/1.3.6.1.4.1.9...</td>\n",
              "      <td>Calc-Training_P_00005_RIGHT_CC_1/1.3.6.1.4.1.9...</td>\n",
              "    </tr>\n",
              "    <tr>\n",
              "      <th>1</th>\n",
              "      <td>P_00005</td>\n",
              "      <td>3</td>\n",
              "      <td>RIGHT</td>\n",
              "      <td>MLO</td>\n",
              "      <td>1</td>\n",
              "      <td>calcification</td>\n",
              "      <td>AMORPHOUS</td>\n",
              "      <td>CLUSTERED</td>\n",
              "      <td>3</td>\n",
              "      <td>MALIGNANT</td>\n",
              "      <td>3</td>\n",
              "      <td>Calc-Training_P_00005_RIGHT_MLO/1.3.6.1.4.1.95...</td>\n",
              "      <td>Calc-Training_P_00005_RIGHT_MLO_1/1.3.6.1.4.1....</td>\n",
              "      <td>Calc-Training_P_00005_RIGHT_MLO_1/1.3.6.1.4.1....</td>\n",
              "    </tr>\n",
              "    <tr>\n",
              "      <th>2</th>\n",
              "      <td>P_00007</td>\n",
              "      <td>4</td>\n",
              "      <td>LEFT</td>\n",
              "      <td>CC</td>\n",
              "      <td>1</td>\n",
              "      <td>calcification</td>\n",
              "      <td>PLEOMORPHIC</td>\n",
              "      <td>LINEAR</td>\n",
              "      <td>4</td>\n",
              "      <td>BENIGN</td>\n",
              "      <td>4</td>\n",
              "      <td>Calc-Training_P_00007_LEFT_CC/1.3.6.1.4.1.9590...</td>\n",
              "      <td>Calc-Training_P_00007_LEFT_CC_1/1.3.6.1.4.1.95...</td>\n",
              "      <td>Calc-Training_P_00007_LEFT_CC_1/1.3.6.1.4.1.95...</td>\n",
              "    </tr>\n",
              "    <tr>\n",
              "      <th>3</th>\n",
              "      <td>P_00007</td>\n",
              "      <td>4</td>\n",
              "      <td>LEFT</td>\n",
              "      <td>MLO</td>\n",
              "      <td>1</td>\n",
              "      <td>calcification</td>\n",
              "      <td>PLEOMORPHIC</td>\n",
              "      <td>LINEAR</td>\n",
              "      <td>4</td>\n",
              "      <td>BENIGN</td>\n",
              "      <td>4</td>\n",
              "      <td>Calc-Training_P_00007_LEFT_MLO/1.3.6.1.4.1.959...</td>\n",
              "      <td>Calc-Training_P_00007_LEFT_MLO_1/1.3.6.1.4.1.9...</td>\n",
              "      <td>Calc-Training_P_00007_LEFT_MLO_1/1.3.6.1.4.1.9...</td>\n",
              "    </tr>\n",
              "    <tr>\n",
              "      <th>4</th>\n",
              "      <td>P_00008</td>\n",
              "      <td>1</td>\n",
              "      <td>LEFT</td>\n",
              "      <td>CC</td>\n",
              "      <td>1</td>\n",
              "      <td>calcification</td>\n",
              "      <td>NaN</td>\n",
              "      <td>REGIONAL</td>\n",
              "      <td>2</td>\n",
              "      <td>BENIGN_WITHOUT_CALLBACK</td>\n",
              "      <td>3</td>\n",
              "      <td>Calc-Training_P_00008_LEFT_CC/1.3.6.1.4.1.9590...</td>\n",
              "      <td>Calc-Training_P_00008_LEFT_CC_1/1.3.6.1.4.1.95...</td>\n",
              "      <td>Calc-Training_P_00008_LEFT_CC_1/1.3.6.1.4.1.95...</td>\n",
              "    </tr>\n",
              "  </tbody>\n",
              "</table>\n",
              "</div>"
            ],
            "text/plain": [
              "  patient_id  ...                                 ROI mask file path\n",
              "0    P_00005  ...  Calc-Training_P_00005_RIGHT_CC_1/1.3.6.1.4.1.9...\n",
              "1    P_00005  ...  Calc-Training_P_00005_RIGHT_MLO_1/1.3.6.1.4.1....\n",
              "2    P_00007  ...  Calc-Training_P_00007_LEFT_CC_1/1.3.6.1.4.1.95...\n",
              "3    P_00007  ...  Calc-Training_P_00007_LEFT_MLO_1/1.3.6.1.4.1.9...\n",
              "4    P_00008  ...  Calc-Training_P_00008_LEFT_CC_1/1.3.6.1.4.1.95...\n",
              "\n",
              "[5 rows x 14 columns]"
            ]
          },
          "metadata": {
            "tags": []
          },
          "execution_count": 19
        }
      ]
    },
    {
      "cell_type": "code",
      "metadata": {
        "id": "lbiaJZTJdgHB",
        "colab_type": "code",
        "colab": {
          "base_uri": "https://localhost:8080/",
          "height": 187
        },
        "outputId": "d7724fd8-9a96-4dcf-ab2a-9e8833714882"
      },
      "source": [
        "!pip install pypng"
      ],
      "execution_count": 20,
      "outputs": [
        {
          "output_type": "stream",
          "text": [
            "Collecting pypng\n",
            "\u001b[?25l  Downloading https://files.pythonhosted.org/packages/bc/fb/f719f1ac965e2101aa6ea6f54ef8b40f8fbb033f6ad07c017663467f5147/pypng-0.0.20.tar.gz (649kB)\n",
            "\r\u001b[K     |▌                               | 10kB 19.4MB/s eta 0:00:01\r\u001b[K     |█                               | 20kB 1.8MB/s eta 0:00:01\r\u001b[K     |█▌                              | 30kB 2.6MB/s eta 0:00:01\r\u001b[K     |██                              | 40kB 3.4MB/s eta 0:00:01\r\u001b[K     |██▌                             | 51kB 2.1MB/s eta 0:00:01\r\u001b[K     |███                             | 61kB 2.5MB/s eta 0:00:01\r\u001b[K     |███▌                            | 71kB 2.9MB/s eta 0:00:01\r\u001b[K     |████                            | 81kB 3.3MB/s eta 0:00:01\r\u001b[K     |████▌                           | 92kB 2.5MB/s eta 0:00:01\r\u001b[K     |█████                           | 102kB 2.8MB/s eta 0:00:01\r\u001b[K     |█████▌                          | 112kB 2.8MB/s eta 0:00:01\r\u001b[K     |██████                          | 122kB 2.8MB/s eta 0:00:01\r\u001b[K     |██████▋                         | 133kB 2.8MB/s eta 0:00:01\r\u001b[K     |███████                         | 143kB 2.8MB/s eta 0:00:01\r\u001b[K     |███████▋                        | 153kB 2.8MB/s eta 0:00:01\r\u001b[K     |████████                        | 163kB 2.8MB/s eta 0:00:01\r\u001b[K     |████████▋                       | 174kB 2.8MB/s eta 0:00:01\r\u001b[K     |█████████                       | 184kB 2.8MB/s eta 0:00:01\r\u001b[K     |█████████▋                      | 194kB 2.8MB/s eta 0:00:01\r\u001b[K     |██████████                      | 204kB 2.8MB/s eta 0:00:01\r\u001b[K     |██████████▋                     | 215kB 2.8MB/s eta 0:00:01\r\u001b[K     |███████████                     | 225kB 2.8MB/s eta 0:00:01\r\u001b[K     |███████████▋                    | 235kB 2.8MB/s eta 0:00:01\r\u001b[K     |████████████                    | 245kB 2.8MB/s eta 0:00:01\r\u001b[K     |████████████▋                   | 256kB 2.8MB/s eta 0:00:01\r\u001b[K     |█████████████▏                  | 266kB 2.8MB/s eta 0:00:01\r\u001b[K     |█████████████▋                  | 276kB 2.8MB/s eta 0:00:01\r\u001b[K     |██████████████▏                 | 286kB 2.8MB/s eta 0:00:01\r\u001b[K     |██████████████▋                 | 296kB 2.8MB/s eta 0:00:01\r\u001b[K     |███████████████▏                | 307kB 2.8MB/s eta 0:00:01\r\u001b[K     |███████████████▋                | 317kB 2.8MB/s eta 0:00:01\r\u001b[K     |████████████████▏               | 327kB 2.8MB/s eta 0:00:01\r\u001b[K     |████████████████▋               | 337kB 2.8MB/s eta 0:00:01\r\u001b[K     |█████████████████▏              | 348kB 2.8MB/s eta 0:00:01\r\u001b[K     |█████████████████▋              | 358kB 2.8MB/s eta 0:00:01\r\u001b[K     |██████████████████▏             | 368kB 2.8MB/s eta 0:00:01\r\u001b[K     |██████████████████▋             | 378kB 2.8MB/s eta 0:00:01\r\u001b[K     |███████████████████▏            | 389kB 2.8MB/s eta 0:00:01\r\u001b[K     |███████████████████▊            | 399kB 2.8MB/s eta 0:00:01\r\u001b[K     |████████████████████▏           | 409kB 2.8MB/s eta 0:00:01\r\u001b[K     |████████████████████▊           | 419kB 2.8MB/s eta 0:00:01\r\u001b[K     |█████████████████████▏          | 430kB 2.8MB/s eta 0:00:01\r\u001b[K     |█████████████████████▊          | 440kB 2.8MB/s eta 0:00:01\r\u001b[K     |██████████████████████▏         | 450kB 2.8MB/s eta 0:00:01\r\u001b[K     |██████████████████████▊         | 460kB 2.8MB/s eta 0:00:01\r\u001b[K     |███████████████████████▏        | 471kB 2.8MB/s eta 0:00:01\r\u001b[K     |███████████████████████▊        | 481kB 2.8MB/s eta 0:00:01\r\u001b[K     |████████████████████████▏       | 491kB 2.8MB/s eta 0:00:01\r\u001b[K     |████████████████████████▊       | 501kB 2.8MB/s eta 0:00:01\r\u001b[K     |█████████████████████████▎      | 512kB 2.8MB/s eta 0:00:01\r\u001b[K     |█████████████████████████▊      | 522kB 2.8MB/s eta 0:00:01\r\u001b[K     |██████████████████████████▎     | 532kB 2.8MB/s eta 0:00:01\r\u001b[K     |██████████████████████████▊     | 542kB 2.8MB/s eta 0:00:01\r\u001b[K     |███████████████████████████▎    | 552kB 2.8MB/s eta 0:00:01\r\u001b[K     |███████████████████████████▊    | 563kB 2.8MB/s eta 0:00:01\r\u001b[K     |████████████████████████████▎   | 573kB 2.8MB/s eta 0:00:01\r\u001b[K     |████████████████████████████▊   | 583kB 2.8MB/s eta 0:00:01\r\u001b[K     |█████████████████████████████▎  | 593kB 2.8MB/s eta 0:00:01\r\u001b[K     |█████████████████████████████▊  | 604kB 2.8MB/s eta 0:00:01\r\u001b[K     |██████████████████████████████▎ | 614kB 2.8MB/s eta 0:00:01\r\u001b[K     |██████████████████████████████▊ | 624kB 2.8MB/s eta 0:00:01\r\u001b[K     |███████████████████████████████▎| 634kB 2.8MB/s eta 0:00:01\r\u001b[K     |███████████████████████████████▉| 645kB 2.8MB/s eta 0:00:01\r\u001b[K     |████████████████████████████████| 655kB 2.8MB/s \n",
            "\u001b[?25hBuilding wheels for collected packages: pypng\n",
            "  Building wheel for pypng (setup.py) ... \u001b[?25l\u001b[?25hdone\n",
            "  Created wheel for pypng: filename=pypng-0.0.20-cp36-none-any.whl size=67161 sha256=747f51b0e3657164802704935077c26eb1c12090f979fe9769c9495fd8b27637\n",
            "  Stored in directory: /root/.cache/pip/wheels/41/6b/ef/0493b536b6d4722c2ae9486691b1d49b922b9877922beeabb3\n",
            "Successfully built pypng\n",
            "Installing collected packages: pypng\n",
            "Successfully installed pypng-0.0.20\n"
          ],
          "name": "stdout"
        }
      ]
    },
    {
      "cell_type": "code",
      "metadata": {
        "id": "QpwgkIkGRNlI",
        "colab_type": "code",
        "colab": {
          "base_uri": "https://localhost:8080/",
          "height": 34
        },
        "outputId": "bb841c21-ed90-47fa-cad8-16fe5c075e56"
      },
      "source": [
        "from os import path\n",
        "from matplotlib import pyplot, cm\n",
        "import png\n",
        "\n",
        "train_image = []\n",
        "for i in tqdm(range(my_train.shape[0])):\n",
        "    png_file = my_train['image file path'][i].replace('dcm','png')\n",
        "    \n",
        "    with open(my_train['image file path'][i], \"r\") as file:\n",
        "      ds = pydicom.dcmread(my_train['image file path'][i])\n",
        "      shape = ds.pixel_array.shape\n",
        "      # Convert to float to avoid overflow or underflow losses.\n",
        "      image_2d = ds.pixel_array.astype(float)\n",
        "\n",
        "      # Rescaling grey scale between 0-255\n",
        "      image_2d_scaled = (np.maximum(image_2d,0) / image_2d.max()) * 255.0\n",
        "\n",
        "      # Convert to uint\n",
        "      image_2d_scaled = np.uint8(image_2d_scaled)\n",
        "\n",
        "      # Write the PNG file\n",
        "      with open(png_file, 'wb') as w_file:\n",
        "        w = png.Writer(shape[1], shape[0], greyscale=True)\n",
        "        w.write(w_file, image_2d_scaled)\n"
      ],
      "execution_count": 21,
      "outputs": [
        {
          "output_type": "stream",
          "text": [
            "100%|██████████| 1546/1546 [30:19<00:00,  1.18s/it]\n"
          ],
          "name": "stderr"
        }
      ]
    },
    {
      "cell_type": "code",
      "metadata": {
        "id": "Dmvh3czwdUeL",
        "colab_type": "code",
        "colab": {
          "base_uri": "https://localhost:8080/",
          "height": 34
        },
        "outputId": "64d647af-54b4-4d35-a8ea-2ae0bf38cfd5"
      },
      "source": [
        "from PIL import ImageEnhance, Image\n",
        "train_image = []\n",
        "for i in tqdm(range(my_train.shape[0])):\n",
        "  png_file = my_train['image file path'][i].replace('dcm','png')\n",
        "  with open(png_file, \"r\") as file:\n",
        "    img = image.load_img(png_file, target_size=(256, 256))\n",
        "    img_rotate1 = img.rotate(45)\n",
        "    img_arr = image.img_to_array(img)\n",
        "    img_arr_rotate1 = image.img_to_array(img_rotate1)\n",
        "    img_arr = img_arr/255\n",
        "    img_arr_rotate1 = img_arr_rotate1/255\n",
        "    train_image.append(img_arr)\n",
        "    train_image.append(img_arr_rotate1)\n",
        "    \n",
        "X = np.array(train_image)"
      ],
      "execution_count": 22,
      "outputs": [
        {
          "output_type": "stream",
          "text": [
            "100%|██████████| 1546/1546 [02:58<00:00,  8.66it/s]\n"
          ],
          "name": "stderr"
        }
      ]
    },
    {
      "cell_type": "code",
      "metadata": {
        "id": "C6VjiHiUrpKw",
        "colab_type": "code",
        "colab": {
          "base_uri": "https://localhost:8080/",
          "height": 34
        },
        "outputId": "82b4c67f-0b63-476f-bf0e-2c7f30184d68"
      },
      "source": [
        "X.shape"
      ],
      "execution_count": 23,
      "outputs": [
        {
          "output_type": "execute_result",
          "data": {
            "text/plain": [
              "(3092, 256, 256, 3)"
            ]
          },
          "metadata": {
            "tags": []
          },
          "execution_count": 23
        }
      ]
    },
    {
      "cell_type": "code",
      "metadata": {
        "id": "btfL7ajYTOES",
        "colab_type": "code",
        "colab": {}
      },
      "source": [
        "import tensorflow as tf\n",
        "from tensorflow.keras import datasets, layers, models\n",
        "import matplotlib.pyplot as plt"
      ],
      "execution_count": 0,
      "outputs": []
    },
    {
      "cell_type": "code",
      "metadata": {
        "id": "58j8KcnLlKP0",
        "colab_type": "code",
        "colab": {}
      },
      "source": [
        "train = pd.DataFrame(np.repeat(my_train.values,2,axis=0))\n",
        "train.columns = my_train.columns"
      ],
      "execution_count": 0,
      "outputs": []
    },
    {
      "cell_type": "code",
      "metadata": {
        "id": "cL4wv5yWtirj",
        "colab_type": "code",
        "colab": {
          "base_uri": "https://localhost:8080/",
          "height": 34
        },
        "outputId": "40ae45e9-e3a7-4967-fb3e-77c5874d13e7"
      },
      "source": [
        "train['label'] = -1\n",
        "print(train.shape)"
      ],
      "execution_count": 26,
      "outputs": [
        {
          "output_type": "stream",
          "text": [
            "(3092, 15)\n"
          ],
          "name": "stdout"
        }
      ]
    },
    {
      "cell_type": "code",
      "metadata": {
        "id": "fZherNfsShEz",
        "colab_type": "code",
        "colab": {
          "base_uri": "https://localhost:8080/",
          "height": 915
        },
        "outputId": "28767bd0-72a7-4de3-95a9-cb460113b7ca"
      },
      "source": [
        "def add_label(my_df):\n",
        "    for i in range(len(my_df)): \n",
        "        if my_df['pathology'][i] == 'BENIGN':\n",
        "          my_df['label'][i] = 0\n",
        "        elif my_df['pathology'][i] == 'BENIGN_WITHOUT_CALLBACK':\n",
        "          my_df['label'][i] = 1\n",
        "        elif my_df['pathology'][i] == 'MALIGNANT':\n",
        "          my_df['label'][i] = 2\n",
        "    return my_df\n",
        "add_label(train)"
      ],
      "execution_count": 27,
      "outputs": [
        {
          "output_type": "stream",
          "text": [
            "/usr/local/lib/python3.6/dist-packages/ipykernel_launcher.py:8: SettingWithCopyWarning: \n",
            "A value is trying to be set on a copy of a slice from a DataFrame\n",
            "\n",
            "See the caveats in the documentation: https://pandas.pydata.org/pandas-docs/stable/user_guide/indexing.html#returning-a-view-versus-a-copy\n",
            "  \n",
            "/usr/local/lib/python3.6/dist-packages/ipykernel_launcher.py:4: SettingWithCopyWarning: \n",
            "A value is trying to be set on a copy of a slice from a DataFrame\n",
            "\n",
            "See the caveats in the documentation: https://pandas.pydata.org/pandas-docs/stable/user_guide/indexing.html#returning-a-view-versus-a-copy\n",
            "  after removing the cwd from sys.path.\n",
            "/usr/local/lib/python3.6/dist-packages/ipykernel_launcher.py:6: SettingWithCopyWarning: \n",
            "A value is trying to be set on a copy of a slice from a DataFrame\n",
            "\n",
            "See the caveats in the documentation: https://pandas.pydata.org/pandas-docs/stable/user_guide/indexing.html#returning-a-view-versus-a-copy\n",
            "  \n"
          ],
          "name": "stderr"
        },
        {
          "output_type": "execute_result",
          "data": {
            "text/html": [
              "<div>\n",
              "<style scoped>\n",
              "    .dataframe tbody tr th:only-of-type {\n",
              "        vertical-align: middle;\n",
              "    }\n",
              "\n",
              "    .dataframe tbody tr th {\n",
              "        vertical-align: top;\n",
              "    }\n",
              "\n",
              "    .dataframe thead th {\n",
              "        text-align: right;\n",
              "    }\n",
              "</style>\n",
              "<table border=\"1\" class=\"dataframe\">\n",
              "  <thead>\n",
              "    <tr style=\"text-align: right;\">\n",
              "      <th></th>\n",
              "      <th>patient_id</th>\n",
              "      <th>breast density</th>\n",
              "      <th>left or right breast</th>\n",
              "      <th>image view</th>\n",
              "      <th>abnormality id</th>\n",
              "      <th>abnormality type</th>\n",
              "      <th>calc type</th>\n",
              "      <th>calc distribution</th>\n",
              "      <th>assessment</th>\n",
              "      <th>pathology</th>\n",
              "      <th>subtlety</th>\n",
              "      <th>image file path</th>\n",
              "      <th>cropped image file path</th>\n",
              "      <th>ROI mask file path</th>\n",
              "      <th>label</th>\n",
              "    </tr>\n",
              "  </thead>\n",
              "  <tbody>\n",
              "    <tr>\n",
              "      <th>0</th>\n",
              "      <td>P_00005</td>\n",
              "      <td>3</td>\n",
              "      <td>RIGHT</td>\n",
              "      <td>CC</td>\n",
              "      <td>1</td>\n",
              "      <td>calcification</td>\n",
              "      <td>AMORPHOUS</td>\n",
              "      <td>CLUSTERED</td>\n",
              "      <td>3</td>\n",
              "      <td>MALIGNANT</td>\n",
              "      <td>3</td>\n",
              "      <td>Calc-Training_P_00005_RIGHT_CC/1.3.6.1.4.1.959...</td>\n",
              "      <td>Calc-Training_P_00005_RIGHT_CC_1/1.3.6.1.4.1.9...</td>\n",
              "      <td>Calc-Training_P_00005_RIGHT_CC_1/1.3.6.1.4.1.9...</td>\n",
              "      <td>2</td>\n",
              "    </tr>\n",
              "    <tr>\n",
              "      <th>1</th>\n",
              "      <td>P_00005</td>\n",
              "      <td>3</td>\n",
              "      <td>RIGHT</td>\n",
              "      <td>CC</td>\n",
              "      <td>1</td>\n",
              "      <td>calcification</td>\n",
              "      <td>AMORPHOUS</td>\n",
              "      <td>CLUSTERED</td>\n",
              "      <td>3</td>\n",
              "      <td>MALIGNANT</td>\n",
              "      <td>3</td>\n",
              "      <td>Calc-Training_P_00005_RIGHT_CC/1.3.6.1.4.1.959...</td>\n",
              "      <td>Calc-Training_P_00005_RIGHT_CC_1/1.3.6.1.4.1.9...</td>\n",
              "      <td>Calc-Training_P_00005_RIGHT_CC_1/1.3.6.1.4.1.9...</td>\n",
              "      <td>2</td>\n",
              "    </tr>\n",
              "    <tr>\n",
              "      <th>2</th>\n",
              "      <td>P_00005</td>\n",
              "      <td>3</td>\n",
              "      <td>RIGHT</td>\n",
              "      <td>MLO</td>\n",
              "      <td>1</td>\n",
              "      <td>calcification</td>\n",
              "      <td>AMORPHOUS</td>\n",
              "      <td>CLUSTERED</td>\n",
              "      <td>3</td>\n",
              "      <td>MALIGNANT</td>\n",
              "      <td>3</td>\n",
              "      <td>Calc-Training_P_00005_RIGHT_MLO/1.3.6.1.4.1.95...</td>\n",
              "      <td>Calc-Training_P_00005_RIGHT_MLO_1/1.3.6.1.4.1....</td>\n",
              "      <td>Calc-Training_P_00005_RIGHT_MLO_1/1.3.6.1.4.1....</td>\n",
              "      <td>2</td>\n",
              "    </tr>\n",
              "    <tr>\n",
              "      <th>3</th>\n",
              "      <td>P_00005</td>\n",
              "      <td>3</td>\n",
              "      <td>RIGHT</td>\n",
              "      <td>MLO</td>\n",
              "      <td>1</td>\n",
              "      <td>calcification</td>\n",
              "      <td>AMORPHOUS</td>\n",
              "      <td>CLUSTERED</td>\n",
              "      <td>3</td>\n",
              "      <td>MALIGNANT</td>\n",
              "      <td>3</td>\n",
              "      <td>Calc-Training_P_00005_RIGHT_MLO/1.3.6.1.4.1.95...</td>\n",
              "      <td>Calc-Training_P_00005_RIGHT_MLO_1/1.3.6.1.4.1....</td>\n",
              "      <td>Calc-Training_P_00005_RIGHT_MLO_1/1.3.6.1.4.1....</td>\n",
              "      <td>2</td>\n",
              "    </tr>\n",
              "    <tr>\n",
              "      <th>4</th>\n",
              "      <td>P_00007</td>\n",
              "      <td>4</td>\n",
              "      <td>LEFT</td>\n",
              "      <td>CC</td>\n",
              "      <td>1</td>\n",
              "      <td>calcification</td>\n",
              "      <td>PLEOMORPHIC</td>\n",
              "      <td>LINEAR</td>\n",
              "      <td>4</td>\n",
              "      <td>BENIGN</td>\n",
              "      <td>4</td>\n",
              "      <td>Calc-Training_P_00007_LEFT_CC/1.3.6.1.4.1.9590...</td>\n",
              "      <td>Calc-Training_P_00007_LEFT_CC_1/1.3.6.1.4.1.95...</td>\n",
              "      <td>Calc-Training_P_00007_LEFT_CC_1/1.3.6.1.4.1.95...</td>\n",
              "      <td>0</td>\n",
              "    </tr>\n",
              "    <tr>\n",
              "      <th>...</th>\n",
              "      <td>...</td>\n",
              "      <td>...</td>\n",
              "      <td>...</td>\n",
              "      <td>...</td>\n",
              "      <td>...</td>\n",
              "      <td>...</td>\n",
              "      <td>...</td>\n",
              "      <td>...</td>\n",
              "      <td>...</td>\n",
              "      <td>...</td>\n",
              "      <td>...</td>\n",
              "      <td>...</td>\n",
              "      <td>...</td>\n",
              "      <td>...</td>\n",
              "      <td>...</td>\n",
              "    </tr>\n",
              "    <tr>\n",
              "      <th>3087</th>\n",
              "      <td>P_02572</td>\n",
              "      <td>2</td>\n",
              "      <td>LEFT</td>\n",
              "      <td>MLO</td>\n",
              "      <td>1</td>\n",
              "      <td>calcification</td>\n",
              "      <td>AMORPHOUS</td>\n",
              "      <td>CLUSTERED</td>\n",
              "      <td>0</td>\n",
              "      <td>MALIGNANT</td>\n",
              "      <td>2</td>\n",
              "      <td>Calc-Training_P_02572_LEFT_MLO/1.3.6.1.4.1.959...</td>\n",
              "      <td>Calc-Training_P_02572_LEFT_MLO_1/1.3.6.1.4.1.9...</td>\n",
              "      <td>Calc-Training_P_02572_LEFT_MLO_1/1.3.6.1.4.1.9...</td>\n",
              "      <td>2</td>\n",
              "    </tr>\n",
              "    <tr>\n",
              "      <th>3088</th>\n",
              "      <td>P_02584</td>\n",
              "      <td>1</td>\n",
              "      <td>LEFT</td>\n",
              "      <td>CC</td>\n",
              "      <td>1</td>\n",
              "      <td>calcification</td>\n",
              "      <td>PLEOMORPHIC</td>\n",
              "      <td>SEGMENTAL</td>\n",
              "      <td>0</td>\n",
              "      <td>BENIGN</td>\n",
              "      <td>4</td>\n",
              "      <td>Calc-Training_P_02584_LEFT_CC/1.3.6.1.4.1.9590...</td>\n",
              "      <td>Calc-Training_P_02584_LEFT_CC_1/1.3.6.1.4.1.95...</td>\n",
              "      <td>Calc-Training_P_02584_LEFT_CC_1/1.3.6.1.4.1.95...</td>\n",
              "      <td>0</td>\n",
              "    </tr>\n",
              "    <tr>\n",
              "      <th>3089</th>\n",
              "      <td>P_02584</td>\n",
              "      <td>1</td>\n",
              "      <td>LEFT</td>\n",
              "      <td>CC</td>\n",
              "      <td>1</td>\n",
              "      <td>calcification</td>\n",
              "      <td>PLEOMORPHIC</td>\n",
              "      <td>SEGMENTAL</td>\n",
              "      <td>0</td>\n",
              "      <td>BENIGN</td>\n",
              "      <td>4</td>\n",
              "      <td>Calc-Training_P_02584_LEFT_CC/1.3.6.1.4.1.9590...</td>\n",
              "      <td>Calc-Training_P_02584_LEFT_CC_1/1.3.6.1.4.1.95...</td>\n",
              "      <td>Calc-Training_P_02584_LEFT_CC_1/1.3.6.1.4.1.95...</td>\n",
              "      <td>0</td>\n",
              "    </tr>\n",
              "    <tr>\n",
              "      <th>3090</th>\n",
              "      <td>P_02584</td>\n",
              "      <td>1</td>\n",
              "      <td>LEFT</td>\n",
              "      <td>MLO</td>\n",
              "      <td>1</td>\n",
              "      <td>calcification</td>\n",
              "      <td>PLEOMORPHIC</td>\n",
              "      <td>SEGMENTAL</td>\n",
              "      <td>0</td>\n",
              "      <td>BENIGN</td>\n",
              "      <td>4</td>\n",
              "      <td>Calc-Training_P_02584_LEFT_MLO/1.3.6.1.4.1.959...</td>\n",
              "      <td>Calc-Training_P_02584_LEFT_MLO_1/1.3.6.1.4.1.9...</td>\n",
              "      <td>Calc-Training_P_02584_LEFT_MLO_1/1.3.6.1.4.1.9...</td>\n",
              "      <td>0</td>\n",
              "    </tr>\n",
              "    <tr>\n",
              "      <th>3091</th>\n",
              "      <td>P_02584</td>\n",
              "      <td>1</td>\n",
              "      <td>LEFT</td>\n",
              "      <td>MLO</td>\n",
              "      <td>1</td>\n",
              "      <td>calcification</td>\n",
              "      <td>PLEOMORPHIC</td>\n",
              "      <td>SEGMENTAL</td>\n",
              "      <td>0</td>\n",
              "      <td>BENIGN</td>\n",
              "      <td>4</td>\n",
              "      <td>Calc-Training_P_02584_LEFT_MLO/1.3.6.1.4.1.959...</td>\n",
              "      <td>Calc-Training_P_02584_LEFT_MLO_1/1.3.6.1.4.1.9...</td>\n",
              "      <td>Calc-Training_P_02584_LEFT_MLO_1/1.3.6.1.4.1.9...</td>\n",
              "      <td>0</td>\n",
              "    </tr>\n",
              "  </tbody>\n",
              "</table>\n",
              "<p>3092 rows × 15 columns</p>\n",
              "</div>"
            ],
            "text/plain": [
              "     patient_id  ... label\n",
              "0       P_00005  ...     2\n",
              "1       P_00005  ...     2\n",
              "2       P_00005  ...     2\n",
              "3       P_00005  ...     2\n",
              "4       P_00007  ...     0\n",
              "...         ...  ...   ...\n",
              "3087    P_02572  ...     2\n",
              "3088    P_02584  ...     0\n",
              "3089    P_02584  ...     0\n",
              "3090    P_02584  ...     0\n",
              "3091    P_02584  ...     0\n",
              "\n",
              "[3092 rows x 15 columns]"
            ]
          },
          "metadata": {
            "tags": []
          },
          "execution_count": 27
        }
      ]
    },
    {
      "cell_type": "code",
      "metadata": {
        "id": "DdlVhx_pS5rd",
        "colab_type": "code",
        "colab": {}
      },
      "source": [
        "y = train['label'].values"
      ],
      "execution_count": 0,
      "outputs": []
    },
    {
      "cell_type": "code",
      "metadata": {
        "id": "UlLbXQGuTOo0",
        "colab_type": "code",
        "colab": {}
      },
      "source": [
        "X_train, X_test, y_train, y_test = train_test_split(X, y, random_state=42, test_size=0.2)"
      ],
      "execution_count": 0,
      "outputs": []
    },
    {
      "cell_type": "code",
      "metadata": {
        "id": "McMyFVfDYVEP",
        "colab_type": "code",
        "colab": {}
      },
      "source": [
        "tf.keras.backend.clear_session()"
      ],
      "execution_count": 0,
      "outputs": []
    },
    {
      "cell_type": "code",
      "metadata": {
        "id": "5g0gIN9PTSx8",
        "colab_type": "code",
        "colab": {}
      },
      "source": [
        "from keras import regularizers\n",
        "model = models.Sequential()\n",
        "model.add(layers.Conv2D(32, (3, 3), activation='relu', input_shape=(256, 256, 3)))\n",
        "model.add(layers.MaxPooling2D((2, 2)))\n",
        "model.add(layers.Dropout(0.2))\n",
        "model.add(layers.Conv2D(64, (3, 3), activation='relu'))\n",
        "model.add(layers.MaxPooling2D((2, 2)))\n",
        "model.add(layers.Dropout(0.3))\n",
        "model.add(layers.Conv2D(64, (3, 3), activation='relu'))\n",
        "model.add(layers.Dropout(0.3))\n",
        "model.add(layers.Flatten())\n",
        "model.add(layers.Dense(64, activation='relu', input_dim=X_train.shape[1], \n",
        "                       kernel_regularizer=regularizers.l2(0.02)))\n",
        "model.add(layers.Dropout(0.5))\n",
        "# 3 classes with softmax activation for multi-class\n",
        "model.add(layers.Dense(3, activation='softmax'))"
      ],
      "execution_count": 0,
      "outputs": []
    },
    {
      "cell_type": "code",
      "metadata": {
        "id": "HLvsB7cWUP1C",
        "colab_type": "code",
        "colab": {}
      },
      "source": [
        "model.compile(optimizer='adam',\n",
        "              loss=tf.keras.losses.SparseCategoricalCrossentropy(),\n",
        "              metrics=['accuracy'])"
      ],
      "execution_count": 0,
      "outputs": []
    },
    {
      "cell_type": "code",
      "metadata": {
        "id": "s3koRAA0uUn0",
        "colab_type": "code",
        "colab": {
          "base_uri": "https://localhost:8080/",
          "height": 1000
        },
        "outputId": "ec84e430-fd13-436e-c13d-95af6c620ec8"
      },
      "source": [
        "history = model.fit(X_train, y_train, epochs=50, batch_size = 32, validation_data=(X_test, y_test))"
      ],
      "execution_count": 73,
      "outputs": [
        {
          "output_type": "stream",
          "text": [
            "Epoch 1/50\n",
            "78/78 [==============================] - 172s 2s/step - loss: 1.7681 - accuracy: 0.4032 - val_loss: 1.1200 - val_accuracy: 0.4992\n",
            "Epoch 2/50\n",
            "78/78 [==============================] - 171s 2s/step - loss: 1.1487 - accuracy: 0.4719 - val_loss: 1.1538 - val_accuracy: 0.4927\n",
            "Epoch 3/50\n",
            "78/78 [==============================] - 170s 2s/step - loss: 1.1500 - accuracy: 0.5006 - val_loss: 1.1051 - val_accuracy: 0.5057\n",
            "Epoch 4/50\n",
            "78/78 [==============================] - 170s 2s/step - loss: 1.1479 - accuracy: 0.5228 - val_loss: 1.1001 - val_accuracy: 0.5250\n",
            "Epoch 5/50\n",
            "78/78 [==============================] - 172s 2s/step - loss: 1.1608 - accuracy: 0.5410 - val_loss: 1.1011 - val_accuracy: 0.5525\n",
            "Epoch 6/50\n",
            "78/78 [==============================] - 172s 2s/step - loss: 1.1752 - accuracy: 0.5443 - val_loss: 1.1517 - val_accuracy: 0.5622\n",
            "Epoch 7/50\n",
            "78/78 [==============================] - 173s 2s/step - loss: 1.1917 - accuracy: 0.5661 - val_loss: 1.2427 - val_accuracy: 0.5250\n",
            "Epoch 8/50\n",
            "78/78 [==============================] - 173s 2s/step - loss: 1.1836 - accuracy: 0.5811 - val_loss: 1.1457 - val_accuracy: 0.6010\n",
            "Epoch 9/50\n",
            "78/78 [==============================] - 171s 2s/step - loss: 1.1717 - accuracy: 0.5843 - val_loss: 1.1913 - val_accuracy: 0.5493\n",
            "Epoch 10/50\n",
            "78/78 [==============================] - 174s 2s/step - loss: 1.1874 - accuracy: 0.5835 - val_loss: 1.2306 - val_accuracy: 0.5897\n",
            "Epoch 11/50\n",
            "78/78 [==============================] - 172s 2s/step - loss: 1.1730 - accuracy: 0.6086 - val_loss: 1.1860 - val_accuracy: 0.6090\n",
            "Epoch 12/50\n",
            "78/78 [==============================] - 171s 2s/step - loss: 1.1877 - accuracy: 0.6122 - val_loss: 1.2371 - val_accuracy: 0.5897\n",
            "Epoch 13/50\n",
            "78/78 [==============================] - 174s 2s/step - loss: 1.2008 - accuracy: 0.6207 - val_loss: 1.2202 - val_accuracy: 0.5800\n",
            "Epoch 14/50\n",
            "78/78 [==============================] - 178s 2s/step - loss: 1.1942 - accuracy: 0.6413 - val_loss: 1.2281 - val_accuracy: 0.5816\n",
            "Epoch 15/50\n",
            "78/78 [==============================] - 173s 2s/step - loss: 1.1914 - accuracy: 0.6332 - val_loss: 1.2621 - val_accuracy: 0.5767\n",
            "Epoch 16/50\n",
            "78/78 [==============================] - 174s 2s/step - loss: 1.2074 - accuracy: 0.6514 - val_loss: 1.3233 - val_accuracy: 0.5929\n",
            "Epoch 17/50\n",
            "78/78 [==============================] - 174s 2s/step - loss: 1.2059 - accuracy: 0.6737 - val_loss: 1.2503 - val_accuracy: 0.6010\n",
            "Epoch 18/50\n",
            "78/78 [==============================] - 173s 2s/step - loss: 1.2308 - accuracy: 0.6632 - val_loss: 1.3628 - val_accuracy: 0.6026\n",
            "Epoch 19/50\n",
            "78/78 [==============================] - 173s 2s/step - loss: 1.2431 - accuracy: 0.6700 - val_loss: 1.3583 - val_accuracy: 0.6284\n",
            "Epoch 20/50\n",
            "78/78 [==============================] - 172s 2s/step - loss: 1.2384 - accuracy: 0.6805 - val_loss: 1.3450 - val_accuracy: 0.6187\n",
            "Epoch 21/50\n",
            "78/78 [==============================] - 172s 2s/step - loss: 1.2424 - accuracy: 0.6830 - val_loss: 1.4190 - val_accuracy: 0.5977\n",
            "Epoch 22/50\n",
            "78/78 [==============================] - 170s 2s/step - loss: 1.2923 - accuracy: 0.6939 - val_loss: 1.3693 - val_accuracy: 0.6220\n",
            "Epoch 23/50\n",
            "78/78 [==============================] - 171s 2s/step - loss: 1.2346 - accuracy: 0.7052 - val_loss: 1.4045 - val_accuracy: 0.6139\n",
            "Epoch 24/50\n",
            "78/78 [==============================] - 171s 2s/step - loss: 1.2740 - accuracy: 0.7072 - val_loss: 1.4231 - val_accuracy: 0.6026\n",
            "Epoch 25/50\n",
            "78/78 [==============================] - 172s 2s/step - loss: 1.2968 - accuracy: 0.7093 - val_loss: 1.4269 - val_accuracy: 0.6478\n",
            "Epoch 26/50\n",
            "78/78 [==============================] - 171s 2s/step - loss: 1.2797 - accuracy: 0.7178 - val_loss: 1.4528 - val_accuracy: 0.6252\n",
            "Epoch 27/50\n",
            "78/78 [==============================] - 170s 2s/step - loss: 1.2512 - accuracy: 0.7206 - val_loss: 1.4249 - val_accuracy: 0.6042\n",
            "Epoch 28/50\n",
            "78/78 [==============================] - 172s 2s/step - loss: 1.2598 - accuracy: 0.7303 - val_loss: 1.4249 - val_accuracy: 0.6333\n",
            "Epoch 29/50\n",
            "78/78 [==============================] - 170s 2s/step - loss: 1.2504 - accuracy: 0.7355 - val_loss: 1.4540 - val_accuracy: 0.6397\n",
            "Epoch 30/50\n",
            "78/78 [==============================] - 171s 2s/step - loss: 1.2741 - accuracy: 0.7404 - val_loss: 1.5096 - val_accuracy: 0.6397\n",
            "Epoch 31/50\n",
            "78/78 [==============================] - 171s 2s/step - loss: 1.2844 - accuracy: 0.7412 - val_loss: 1.4801 - val_accuracy: 0.6494\n",
            "Epoch 32/50\n",
            "78/78 [==============================] - 171s 2s/step - loss: 1.2823 - accuracy: 0.7408 - val_loss: 1.4701 - val_accuracy: 0.6284\n",
            "Epoch 33/50\n",
            "78/78 [==============================] - 170s 2s/step - loss: 1.2658 - accuracy: 0.7501 - val_loss: 1.4760 - val_accuracy: 0.6317\n",
            "Epoch 34/50\n",
            "78/78 [==============================] - 170s 2s/step - loss: 1.2768 - accuracy: 0.7469 - val_loss: 1.6872 - val_accuracy: 0.6284\n",
            "Epoch 35/50\n",
            "78/78 [==============================] - 171s 2s/step - loss: 1.3657 - accuracy: 0.7614 - val_loss: 1.5352 - val_accuracy: 0.6462\n",
            "Epoch 36/50\n",
            "78/78 [==============================] - 170s 2s/step - loss: 1.2287 - accuracy: 0.7792 - val_loss: 1.4857 - val_accuracy: 0.6688\n",
            "Epoch 37/50\n",
            "78/78 [==============================] - 174s 2s/step - loss: 1.3055 - accuracy: 0.7545 - val_loss: 1.5051 - val_accuracy: 0.6527\n",
            "Epoch 38/50\n",
            "78/78 [==============================] - 173s 2s/step - loss: 1.2913 - accuracy: 0.7562 - val_loss: 1.4909 - val_accuracy: 0.6672\n",
            "Epoch 39/50\n",
            "78/78 [==============================] - 171s 2s/step - loss: 1.2306 - accuracy: 0.7796 - val_loss: 1.4809 - val_accuracy: 0.6478\n",
            "Epoch 40/50\n",
            "78/78 [==============================] - 172s 2s/step - loss: 1.2532 - accuracy: 0.7659 - val_loss: 1.5184 - val_accuracy: 0.6527\n",
            "Epoch 41/50\n",
            "78/78 [==============================] - 172s 2s/step - loss: 1.2436 - accuracy: 0.7691 - val_loss: 1.5444 - val_accuracy: 0.6268\n",
            "Epoch 42/50\n",
            "78/78 [==============================] - 173s 2s/step - loss: 1.2647 - accuracy: 0.7909 - val_loss: 1.5279 - val_accuracy: 0.6317\n",
            "Epoch 43/50\n",
            "78/78 [==============================] - 170s 2s/step - loss: 1.2430 - accuracy: 0.7853 - val_loss: 1.5328 - val_accuracy: 0.6397\n",
            "Epoch 44/50\n",
            "78/78 [==============================] - 173s 2s/step - loss: 1.2526 - accuracy: 0.7881 - val_loss: 1.5266 - val_accuracy: 0.6414\n",
            "Epoch 45/50\n",
            "78/78 [==============================] - 172s 2s/step - loss: 1.2734 - accuracy: 0.7780 - val_loss: 1.5456 - val_accuracy: 0.6494\n",
            "Epoch 46/50\n",
            "78/78 [==============================] - 171s 2s/step - loss: 1.2601 - accuracy: 0.7889 - val_loss: 1.5431 - val_accuracy: 0.6591\n",
            "Epoch 47/50\n",
            "78/78 [==============================] - 171s 2s/step - loss: 1.2967 - accuracy: 0.7893 - val_loss: 1.5920 - val_accuracy: 0.6543\n",
            "Epoch 48/50\n",
            "78/78 [==============================] - 171s 2s/step - loss: 1.2690 - accuracy: 0.7873 - val_loss: 1.5628 - val_accuracy: 0.6640\n",
            "Epoch 49/50\n",
            "78/78 [==============================] - 170s 2s/step - loss: 1.2886 - accuracy: 0.7901 - val_loss: 1.5559 - val_accuracy: 0.6575\n",
            "Epoch 50/50\n",
            "78/78 [==============================] - 170s 2s/step - loss: 1.2669 - accuracy: 0.7974 - val_loss: 1.5724 - val_accuracy: 0.6220\n"
          ],
          "name": "stdout"
        }
      ]
    },
    {
      "cell_type": "code",
      "metadata": {
        "id": "F36dhL7cUZ1Y",
        "colab_type": "code",
        "colab": {
          "base_uri": "https://localhost:8080/",
          "height": 300
        },
        "outputId": "2419b656-9a8d-4d62-cf5e-151ec3ba5303"
      },
      "source": [
        "plt.plot(history.history['accuracy'], label='accuracy')\n",
        "plt.plot(history.history['val_accuracy'], label = 'val_accuracy')\n",
        "plt.xlabel('Epoch')\n",
        "plt.ylabel('Accuracy')\n",
        "plt.ylim([0, 1])\n",
        "plt.legend(loc='lower right')\n",
        "\n",
        "test_loss, test_acc = model.evaluate(X_test, y_test, verbose=2)"
      ],
      "execution_count": 74,
      "outputs": [
        {
          "output_type": "stream",
          "text": [
            "20/20 - 9s - loss: 1.5724 - accuracy: 0.6220\n"
          ],
          "name": "stdout"
        },
        {
          "output_type": "display_data",
          "data": {
            "image/png": "[encoded data removed]",
            "text/plain": [
              "<Figure size 432x288 with 1 Axes>"
            ]
          },
          "metadata": {
            "tags": [],
            "needs_background": "light"
          }
        }
      ]
    },
    {
      "cell_type": "code",
      "metadata": {
        "id": "Aos1n_r-WXxN",
        "colab_type": "code",
        "colab": {}
      },
      "source": [
        "for i in range(1500):\n",
        "  if os.path.exists(train['image file path'][i]):\n",
        "    os.remove(train['image file path'][i])"
      ],
      "execution_count": 0,
      "outputs": []
    },
    {
      "cell_type": "code",
      "metadata": {
        "id": "LWgDr5CGRbON",
        "colab_type": "code",
        "colab": {}
      },
      "source": [
        "download = drive.CreateFile({'id': '1loLhWCXJRplETWsyLZ3Akn-jcckZDaLM'})\n",
        "#download test-set"
      ],
      "execution_count": 0,
      "outputs": []
    },
    {
      "cell_type": "code",
      "metadata": {
        "id": "mjphmPSkRohi",
        "colab_type": "code",
        "colab": {}
      },
      "source": [
        "download.GetContentFile('CBIS_DDSM_Calc_nTest.zip')\n",
        "!unzip CBIS_DDSM_Calc_nTest.zip\n",
        "### May crash! Disk volumn is not enough for this part of data!"
      ],
      "execution_count": 0,
      "outputs": []
    },
    {
      "cell_type": "code",
      "metadata": {
        "id": "xQC7Eue6hiMs",
        "colab_type": "code",
        "colab": {}
      },
      "source": [
        "!rm CBIS_DDSM_Calc_nTest.zip\n",
        "#Delete the train_set_1.zip to save disk space"
      ],
      "execution_count": 0,
      "outputs": []
    },
    {
      "cell_type": "code",
      "metadata": {
        "id": "piue4ZlDRzbs",
        "colab_type": "code",
        "colab": {
          "base_uri": "https://localhost:8080/",
          "height": 360
        },
        "outputId": "65857bf2-81fe-446c-9176-43c4d1f23f07"
      },
      "source": [
        "my_test = pd.read_csv('calc_case_description_test_set.csv')\n",
        "my_test.head()"
      ],
      "execution_count": 46,
      "outputs": [
        {
          "output_type": "execute_result",
          "data": {
            "text/html": [
              "<div>\n",
              "<style scoped>\n",
              "    .dataframe tbody tr th:only-of-type {\n",
              "        vertical-align: middle;\n",
              "    }\n",
              "\n",
              "    .dataframe tbody tr th {\n",
              "        vertical-align: top;\n",
              "    }\n",
              "\n",
              "    .dataframe thead th {\n",
              "        text-align: right;\n",
              "    }\n",
              "</style>\n",
              "<table border=\"1\" class=\"dataframe\">\n",
              "  <thead>\n",
              "    <tr style=\"text-align: right;\">\n",
              "      <th></th>\n",
              "      <th>patient_id</th>\n",
              "      <th>breast density</th>\n",
              "      <th>left or right breast</th>\n",
              "      <th>image view</th>\n",
              "      <th>abnormality id</th>\n",
              "      <th>abnormality type</th>\n",
              "      <th>calc type</th>\n",
              "      <th>calc distribution</th>\n",
              "      <th>assessment</th>\n",
              "      <th>pathology</th>\n",
              "      <th>subtlety</th>\n",
              "      <th>image file path</th>\n",
              "      <th>cropped image file path</th>\n",
              "      <th>ROI mask file path</th>\n",
              "    </tr>\n",
              "  </thead>\n",
              "  <tbody>\n",
              "    <tr>\n",
              "      <th>0</th>\n",
              "      <td>P_00038</td>\n",
              "      <td>2</td>\n",
              "      <td>LEFT</td>\n",
              "      <td>CC</td>\n",
              "      <td>1</td>\n",
              "      <td>calcification</td>\n",
              "      <td>PUNCTATE-PLEOMORPHIC</td>\n",
              "      <td>CLUSTERED</td>\n",
              "      <td>4</td>\n",
              "      <td>BENIGN</td>\n",
              "      <td>2</td>\n",
              "      <td>Calc-Test_P_00038_LEFT_CC/1.3.6.1.4.1.9590.100...</td>\n",
              "      <td>Calc-Test_P_00038_LEFT_CC_1/1.3.6.1.4.1.9590.1...</td>\n",
              "      <td>Calc-Test_P_00038_LEFT_CC_1/1.3.6.1.4.1.9590.1...</td>\n",
              "    </tr>\n",
              "    <tr>\n",
              "      <th>1</th>\n",
              "      <td>P_00038</td>\n",
              "      <td>2</td>\n",
              "      <td>LEFT</td>\n",
              "      <td>MLO</td>\n",
              "      <td>1</td>\n",
              "      <td>calcification</td>\n",
              "      <td>PUNCTATE-PLEOMORPHIC</td>\n",
              "      <td>CLUSTERED</td>\n",
              "      <td>4</td>\n",
              "      <td>BENIGN</td>\n",
              "      <td>2</td>\n",
              "      <td>Calc-Test_P_00038_LEFT_MLO/1.3.6.1.4.1.9590.10...</td>\n",
              "      <td>Calc-Test_P_00038_LEFT_MLO_1/1.3.6.1.4.1.9590....</td>\n",
              "      <td>Calc-Test_P_00038_LEFT_MLO_1/1.3.6.1.4.1.9590....</td>\n",
              "    </tr>\n",
              "    <tr>\n",
              "      <th>2</th>\n",
              "      <td>P_00038</td>\n",
              "      <td>2</td>\n",
              "      <td>RIGHT</td>\n",
              "      <td>CC</td>\n",
              "      <td>1</td>\n",
              "      <td>calcification</td>\n",
              "      <td>VASCULAR</td>\n",
              "      <td>NaN</td>\n",
              "      <td>2</td>\n",
              "      <td>BENIGN_WITHOUT_CALLBACK</td>\n",
              "      <td>5</td>\n",
              "      <td>Calc-Test_P_00038_RIGHT_CC/1.3.6.1.4.1.9590.10...</td>\n",
              "      <td>Calc-Test_P_00038_RIGHT_CC_1/1.3.6.1.4.1.9590....</td>\n",
              "      <td>Calc-Test_P_00038_RIGHT_CC_1/1.3.6.1.4.1.9590....</td>\n",
              "    </tr>\n",
              "    <tr>\n",
              "      <th>3</th>\n",
              "      <td>P_00038</td>\n",
              "      <td>2</td>\n",
              "      <td>RIGHT</td>\n",
              "      <td>CC</td>\n",
              "      <td>2</td>\n",
              "      <td>calcification</td>\n",
              "      <td>VASCULAR</td>\n",
              "      <td>NaN</td>\n",
              "      <td>2</td>\n",
              "      <td>BENIGN_WITHOUT_CALLBACK</td>\n",
              "      <td>5</td>\n",
              "      <td>Calc-Test_P_00038_RIGHT_CC/1.3.6.1.4.1.9590.10...</td>\n",
              "      <td>Calc-Test_P_00038_RIGHT_CC_2/1.3.6.1.4.1.9590....</td>\n",
              "      <td>Calc-Test_P_00038_RIGHT_CC_2/1.3.6.1.4.1.9590....</td>\n",
              "    </tr>\n",
              "    <tr>\n",
              "      <th>4</th>\n",
              "      <td>P_00038</td>\n",
              "      <td>2</td>\n",
              "      <td>RIGHT</td>\n",
              "      <td>MLO</td>\n",
              "      <td>1</td>\n",
              "      <td>calcification</td>\n",
              "      <td>VASCULAR</td>\n",
              "      <td>NaN</td>\n",
              "      <td>2</td>\n",
              "      <td>BENIGN_WITHOUT_CALLBACK</td>\n",
              "      <td>5</td>\n",
              "      <td>Calc-Test_P_00038_RIGHT_MLO/1.3.6.1.4.1.9590.1...</td>\n",
              "      <td>Calc-Test_P_00038_RIGHT_MLO_1/1.3.6.1.4.1.9590...</td>\n",
              "      <td>Calc-Test_P_00038_RIGHT_MLO_1/1.3.6.1.4.1.9590...</td>\n",
              "    </tr>\n",
              "  </tbody>\n",
              "</table>\n",
              "</div>"
            ],
            "text/plain": [
              "  patient_id  ...                                 ROI mask file path\n",
              "0    P_00038  ...  Calc-Test_P_00038_LEFT_CC_1/1.3.6.1.4.1.9590.1...\n",
              "1    P_00038  ...  Calc-Test_P_00038_LEFT_MLO_1/1.3.6.1.4.1.9590....\n",
              "2    P_00038  ...  Calc-Test_P_00038_RIGHT_CC_1/1.3.6.1.4.1.9590....\n",
              "3    P_00038  ...  Calc-Test_P_00038_RIGHT_CC_2/1.3.6.1.4.1.9590....\n",
              "4    P_00038  ...  Calc-Test_P_00038_RIGHT_MLO_1/1.3.6.1.4.1.9590...\n",
              "\n",
              "[5 rows x 14 columns]"
            ]
          },
          "metadata": {
            "tags": []
          },
          "execution_count": 46
        }
      ]
    },
    {
      "cell_type": "code",
      "metadata": {
        "id": "hORe660ASEHZ",
        "colab_type": "code",
        "colab": {
          "base_uri": "https://localhost:8080/",
          "height": 34
        },
        "outputId": "9269ee20-d6bb-4dc7-f926-c1f3c390de1e"
      },
      "source": [
        "test_image = []\n",
        "for i in tqdm(range(my_test.shape[0])):\n",
        "\n",
        "  png_file = my_test['image file path'][i].replace('dcm','png')\n",
        "    \n",
        "  with open(my_test['image file path'][i], \"r\") as file:\n",
        "    ds = pydicom.dcmread(my_test['image file path'][i])\n",
        "    shape = ds.pixel_array.shape\n",
        "    # Convert to float to avoid overflow or underflow losses.\n",
        "    image_2d = ds.pixel_array.astype(float)\n",
        "\n",
        "      # Rescaling grey scale between 0-255\n",
        "    image_2d_scaled = (np.maximum(image_2d,0) / image_2d.max()) * 255.0\n",
        "\n",
        "      # Convert to uint\n",
        "    image_2d_scaled = np.uint8(image_2d_scaled)\n",
        "\n",
        "      # Write the PNG file\n",
        "    with open(png_file, 'wb') as w_file:\n",
        "      w = png.Writer(shape[1], shape[0], greyscale=True)\n",
        "      w.write(w_file, image_2d_scaled)\n"
      ],
      "execution_count": 47,
      "outputs": [
        {
          "output_type": "stream",
          "text": [
            "100%|██████████| 326/326 [06:24<00:00,  1.18s/it]\n"
          ],
          "name": "stderr"
        }
      ]
    },
    {
      "cell_type": "code",
      "metadata": {
        "id": "5Gr_CM5-SR1q",
        "colab_type": "code",
        "colab": {
          "base_uri": "https://localhost:8080/",
          "height": 34
        },
        "outputId": "ff8318a6-32a8-43fe-a621-4ba4c6e564fa"
      },
      "source": [
        "test_image = []\n",
        "for i in tqdm(range(my_test.shape[0])):\n",
        "  png_file = my_test['image file path'][i].replace('dcm','png')\n",
        "  with open(png_file, \"r\") as file:\n",
        "    img = image.load_img(png_file, target_size=(256, 256))\n",
        "    img_rotate1 = img.rotate(45)\n",
        "    img_arr = image.img_to_array(img)\n",
        "    img_arr_rotate1 = image.img_to_array(img_rotate1)\n",
        "    img_arr = img_arr/255\n",
        "    img_arr_rotate1 = img_arr_rotate1/255\n",
        "    test_image.append(img_arr)\n",
        "    test_image.append(img_arr_rotate1)\n",
        "    \n",
        "X_pre = np.array(test_image)"
      ],
      "execution_count": 48,
      "outputs": [
        {
          "output_type": "stream",
          "text": [
            "100%|██████████| 326/326 [00:34<00:00,  9.33it/s]\n"
          ],
          "name": "stderr"
        }
      ]
    },
    {
      "cell_type": "code",
      "metadata": {
        "id": "hz37e6RIKzDI",
        "colab_type": "code",
        "colab": {}
      },
      "source": [
        "test = pd.DataFrame(np.repeat(my_test.values,2,axis=0))\n",
        "test.columns = my_test.columns"
      ],
      "execution_count": 0,
      "outputs": []
    },
    {
      "cell_type": "code",
      "metadata": {
        "id": "Hz0yXgKiiWLX",
        "colab_type": "code",
        "colab": {}
      },
      "source": [
        "test['label'] = -1"
      ],
      "execution_count": 0,
      "outputs": []
    },
    {
      "cell_type": "code",
      "metadata": {
        "id": "HyFSgpgyiYrE",
        "colab_type": "code",
        "colab": {
          "base_uri": "https://localhost:8080/",
          "height": 915
        },
        "outputId": "1ce4934e-378e-4339-a2ca-fd0958998ad0"
      },
      "source": [
        "def add_label(my_df):\n",
        "    for i in range(len(my_df)): \n",
        "        if my_df['pathology'][i] == 'BENIGN':\n",
        "          my_df['label'][i] = 0\n",
        "        elif my_df['pathology'][i] == 'BENIGN_WITHOUT_CALLBACK':\n",
        "          my_df['label'][i] = 1\n",
        "        elif my_df['pathology'][i] == 'MALIGNANT':\n",
        "          my_df['label'][i] = 2\n",
        "    return my_df\n",
        "add_label(test)"
      ],
      "execution_count": 51,
      "outputs": [
        {
          "output_type": "stream",
          "text": [
            "/usr/local/lib/python3.6/dist-packages/ipykernel_launcher.py:4: SettingWithCopyWarning: \n",
            "A value is trying to be set on a copy of a slice from a DataFrame\n",
            "\n",
            "See the caveats in the documentation: https://pandas.pydata.org/pandas-docs/stable/user_guide/indexing.html#returning-a-view-versus-a-copy\n",
            "  after removing the cwd from sys.path.\n",
            "/usr/local/lib/python3.6/dist-packages/ipykernel_launcher.py:6: SettingWithCopyWarning: \n",
            "A value is trying to be set on a copy of a slice from a DataFrame\n",
            "\n",
            "See the caveats in the documentation: https://pandas.pydata.org/pandas-docs/stable/user_guide/indexing.html#returning-a-view-versus-a-copy\n",
            "  \n",
            "/usr/local/lib/python3.6/dist-packages/ipykernel_launcher.py:8: SettingWithCopyWarning: \n",
            "A value is trying to be set on a copy of a slice from a DataFrame\n",
            "\n",
            "See the caveats in the documentation: https://pandas.pydata.org/pandas-docs/stable/user_guide/indexing.html#returning-a-view-versus-a-copy\n",
            "  \n"
          ],
          "name": "stderr"
        },
        {
          "output_type": "execute_result",
          "data": {
            "text/html": [
              "<div>\n",
              "<style scoped>\n",
              "    .dataframe tbody tr th:only-of-type {\n",
              "        vertical-align: middle;\n",
              "    }\n",
              "\n",
              "    .dataframe tbody tr th {\n",
              "        vertical-align: top;\n",
              "    }\n",
              "\n",
              "    .dataframe thead th {\n",
              "        text-align: right;\n",
              "    }\n",
              "</style>\n",
              "<table border=\"1\" class=\"dataframe\">\n",
              "  <thead>\n",
              "    <tr style=\"text-align: right;\">\n",
              "      <th></th>\n",
              "      <th>patient_id</th>\n",
              "      <th>breast density</th>\n",
              "      <th>left or right breast</th>\n",
              "      <th>image view</th>\n",
              "      <th>abnormality id</th>\n",
              "      <th>abnormality type</th>\n",
              "      <th>calc type</th>\n",
              "      <th>calc distribution</th>\n",
              "      <th>assessment</th>\n",
              "      <th>pathology</th>\n",
              "      <th>subtlety</th>\n",
              "      <th>image file path</th>\n",
              "      <th>cropped image file path</th>\n",
              "      <th>ROI mask file path</th>\n",
              "      <th>label</th>\n",
              "    </tr>\n",
              "  </thead>\n",
              "  <tbody>\n",
              "    <tr>\n",
              "      <th>0</th>\n",
              "      <td>P_00038</td>\n",
              "      <td>2</td>\n",
              "      <td>LEFT</td>\n",
              "      <td>CC</td>\n",
              "      <td>1</td>\n",
              "      <td>calcification</td>\n",
              "      <td>PUNCTATE-PLEOMORPHIC</td>\n",
              "      <td>CLUSTERED</td>\n",
              "      <td>4</td>\n",
              "      <td>BENIGN</td>\n",
              "      <td>2</td>\n",
              "      <td>Calc-Test_P_00038_LEFT_CC/1.3.6.1.4.1.9590.100...</td>\n",
              "      <td>Calc-Test_P_00038_LEFT_CC_1/1.3.6.1.4.1.9590.1...</td>\n",
              "      <td>Calc-Test_P_00038_LEFT_CC_1/1.3.6.1.4.1.9590.1...</td>\n",
              "      <td>0</td>\n",
              "    </tr>\n",
              "    <tr>\n",
              "      <th>1</th>\n",
              "      <td>P_00038</td>\n",
              "      <td>2</td>\n",
              "      <td>LEFT</td>\n",
              "      <td>CC</td>\n",
              "      <td>1</td>\n",
              "      <td>calcification</td>\n",
              "      <td>PUNCTATE-PLEOMORPHIC</td>\n",
              "      <td>CLUSTERED</td>\n",
              "      <td>4</td>\n",
              "      <td>BENIGN</td>\n",
              "      <td>2</td>\n",
              "      <td>Calc-Test_P_00038_LEFT_CC/1.3.6.1.4.1.9590.100...</td>\n",
              "      <td>Calc-Test_P_00038_LEFT_CC_1/1.3.6.1.4.1.9590.1...</td>\n",
              "      <td>Calc-Test_P_00038_LEFT_CC_1/1.3.6.1.4.1.9590.1...</td>\n",
              "      <td>0</td>\n",
              "    </tr>\n",
              "    <tr>\n",
              "      <th>2</th>\n",
              "      <td>P_00038</td>\n",
              "      <td>2</td>\n",
              "      <td>LEFT</td>\n",
              "      <td>MLO</td>\n",
              "      <td>1</td>\n",
              "      <td>calcification</td>\n",
              "      <td>PUNCTATE-PLEOMORPHIC</td>\n",
              "      <td>CLUSTERED</td>\n",
              "      <td>4</td>\n",
              "      <td>BENIGN</td>\n",
              "      <td>2</td>\n",
              "      <td>Calc-Test_P_00038_LEFT_MLO/1.3.6.1.4.1.9590.10...</td>\n",
              "      <td>Calc-Test_P_00038_LEFT_MLO_1/1.3.6.1.4.1.9590....</td>\n",
              "      <td>Calc-Test_P_00038_LEFT_MLO_1/1.3.6.1.4.1.9590....</td>\n",
              "      <td>0</td>\n",
              "    </tr>\n",
              "    <tr>\n",
              "      <th>3</th>\n",
              "      <td>P_00038</td>\n",
              "      <td>2</td>\n",
              "      <td>LEFT</td>\n",
              "      <td>MLO</td>\n",
              "      <td>1</td>\n",
              "      <td>calcification</td>\n",
              "      <td>PUNCTATE-PLEOMORPHIC</td>\n",
              "      <td>CLUSTERED</td>\n",
              "      <td>4</td>\n",
              "      <td>BENIGN</td>\n",
              "      <td>2</td>\n",
              "      <td>Calc-Test_P_00038_LEFT_MLO/1.3.6.1.4.1.9590.10...</td>\n",
              "      <td>Calc-Test_P_00038_LEFT_MLO_1/1.3.6.1.4.1.9590....</td>\n",
              "      <td>Calc-Test_P_00038_LEFT_MLO_1/1.3.6.1.4.1.9590....</td>\n",
              "      <td>0</td>\n",
              "    </tr>\n",
              "    <tr>\n",
              "      <th>4</th>\n",
              "      <td>P_00038</td>\n",
              "      <td>2</td>\n",
              "      <td>RIGHT</td>\n",
              "      <td>CC</td>\n",
              "      <td>1</td>\n",
              "      <td>calcification</td>\n",
              "      <td>VASCULAR</td>\n",
              "      <td>NaN</td>\n",
              "      <td>2</td>\n",
              "      <td>BENIGN_WITHOUT_CALLBACK</td>\n",
              "      <td>5</td>\n",
              "      <td>Calc-Test_P_00038_RIGHT_CC/1.3.6.1.4.1.9590.10...</td>\n",
              "      <td>Calc-Test_P_00038_RIGHT_CC_1/1.3.6.1.4.1.9590....</td>\n",
              "      <td>Calc-Test_P_00038_RIGHT_CC_1/1.3.6.1.4.1.9590....</td>\n",
              "      <td>1</td>\n",
              "    </tr>\n",
              "    <tr>\n",
              "      <th>...</th>\n",
              "      <td>...</td>\n",
              "      <td>...</td>\n",
              "      <td>...</td>\n",
              "      <td>...</td>\n",
              "      <td>...</td>\n",
              "      <td>...</td>\n",
              "      <td>...</td>\n",
              "      <td>...</td>\n",
              "      <td>...</td>\n",
              "      <td>...</td>\n",
              "      <td>...</td>\n",
              "      <td>...</td>\n",
              "      <td>...</td>\n",
              "      <td>...</td>\n",
              "      <td>...</td>\n",
              "    </tr>\n",
              "    <tr>\n",
              "      <th>647</th>\n",
              "      <td>P_02498</td>\n",
              "      <td>4</td>\n",
              "      <td>RIGHT</td>\n",
              "      <td>MLO</td>\n",
              "      <td>1</td>\n",
              "      <td>calcification</td>\n",
              "      <td>PUNCTATE</td>\n",
              "      <td>CLUSTERED</td>\n",
              "      <td>0</td>\n",
              "      <td>BENIGN</td>\n",
              "      <td>3</td>\n",
              "      <td>Calc-Test_P_02498_RIGHT_MLO/1.3.6.1.4.1.9590.1...</td>\n",
              "      <td>Calc-Test_P_02498_RIGHT_MLO_1/1.3.6.1.4.1.9590...</td>\n",
              "      <td>Calc-Test_P_02498_RIGHT_MLO_1/1.3.6.1.4.1.9590...</td>\n",
              "      <td>0</td>\n",
              "    </tr>\n",
              "    <tr>\n",
              "      <th>648</th>\n",
              "      <td>P_02501</td>\n",
              "      <td>3</td>\n",
              "      <td>RIGHT</td>\n",
              "      <td>CC</td>\n",
              "      <td>1</td>\n",
              "      <td>calcification</td>\n",
              "      <td>PLEOMORPHIC</td>\n",
              "      <td>CLUSTERED</td>\n",
              "      <td>0</td>\n",
              "      <td>MALIGNANT</td>\n",
              "      <td>3</td>\n",
              "      <td>Calc-Test_P_02501_RIGHT_CC/1.3.6.1.4.1.9590.10...</td>\n",
              "      <td>Calc-Test_P_02501_RIGHT_CC_1/1.3.6.1.4.1.9590....</td>\n",
              "      <td>Calc-Test_P_02501_RIGHT_CC_1/1.3.6.1.4.1.9590....</td>\n",
              "      <td>2</td>\n",
              "    </tr>\n",
              "    <tr>\n",
              "      <th>649</th>\n",
              "      <td>P_02501</td>\n",
              "      <td>3</td>\n",
              "      <td>RIGHT</td>\n",
              "      <td>CC</td>\n",
              "      <td>1</td>\n",
              "      <td>calcification</td>\n",
              "      <td>PLEOMORPHIC</td>\n",
              "      <td>CLUSTERED</td>\n",
              "      <td>0</td>\n",
              "      <td>MALIGNANT</td>\n",
              "      <td>3</td>\n",
              "      <td>Calc-Test_P_02501_RIGHT_CC/1.3.6.1.4.1.9590.10...</td>\n",
              "      <td>Calc-Test_P_02501_RIGHT_CC_1/1.3.6.1.4.1.9590....</td>\n",
              "      <td>Calc-Test_P_02501_RIGHT_CC_1/1.3.6.1.4.1.9590....</td>\n",
              "      <td>2</td>\n",
              "    </tr>\n",
              "    <tr>\n",
              "      <th>650</th>\n",
              "      <td>P_02501</td>\n",
              "      <td>3</td>\n",
              "      <td>RIGHT</td>\n",
              "      <td>MLO</td>\n",
              "      <td>1</td>\n",
              "      <td>calcification</td>\n",
              "      <td>PLEOMORPHIC</td>\n",
              "      <td>CLUSTERED</td>\n",
              "      <td>0</td>\n",
              "      <td>MALIGNANT</td>\n",
              "      <td>3</td>\n",
              "      <td>Calc-Test_P_02501_RIGHT_MLO/1.3.6.1.4.1.9590.1...</td>\n",
              "      <td>Calc-Test_P_02501_RIGHT_MLO_1/1.3.6.1.4.1.9590...</td>\n",
              "      <td>Calc-Test_P_02501_RIGHT_MLO_1/1.3.6.1.4.1.9590...</td>\n",
              "      <td>2</td>\n",
              "    </tr>\n",
              "    <tr>\n",
              "      <th>651</th>\n",
              "      <td>P_02501</td>\n",
              "      <td>3</td>\n",
              "      <td>RIGHT</td>\n",
              "      <td>MLO</td>\n",
              "      <td>1</td>\n",
              "      <td>calcification</td>\n",
              "      <td>PLEOMORPHIC</td>\n",
              "      <td>CLUSTERED</td>\n",
              "      <td>0</td>\n",
              "      <td>MALIGNANT</td>\n",
              "      <td>3</td>\n",
              "      <td>Calc-Test_P_02501_RIGHT_MLO/1.3.6.1.4.1.9590.1...</td>\n",
              "      <td>Calc-Test_P_02501_RIGHT_MLO_1/1.3.6.1.4.1.9590...</td>\n",
              "      <td>Calc-Test_P_02501_RIGHT_MLO_1/1.3.6.1.4.1.9590...</td>\n",
              "      <td>2</td>\n",
              "    </tr>\n",
              "  </tbody>\n",
              "</table>\n",
              "<p>652 rows × 15 columns</p>\n",
              "</div>"
            ],
            "text/plain": [
              "    patient_id  ... label\n",
              "0      P_00038  ...     0\n",
              "1      P_00038  ...     0\n",
              "2      P_00038  ...     0\n",
              "3      P_00038  ...     0\n",
              "4      P_00038  ...     1\n",
              "..         ...  ...   ...\n",
              "647    P_02498  ...     0\n",
              "648    P_02501  ...     2\n",
              "649    P_02501  ...     2\n",
              "650    P_02501  ...     2\n",
              "651    P_02501  ...     2\n",
              "\n",
              "[652 rows x 15 columns]"
            ]
          },
          "metadata": {
            "tags": []
          },
          "execution_count": 51
        }
      ]
    },
    {
      "cell_type": "code",
      "metadata": {
        "id": "WV4zX-c0gYM8",
        "colab_type": "code",
        "colab": {}
      },
      "source": [
        "y_pre = test['label'].values"
      ],
      "execution_count": 0,
      "outputs": []
    },
    {
      "cell_type": "code",
      "metadata": {
        "id": "yYl7b80FiOpT",
        "colab_type": "code",
        "colab": {
          "base_uri": "https://localhost:8080/",
          "height": 34
        },
        "outputId": "ef6ea28e-bf6f-4556-ffa8-a92a1c1bdbcf"
      },
      "source": [
        "from sklearn.metrics import confusion_matrix,accuracy_score\n",
        "prediction = model.predict_classes(X_pre)\n",
        "accuracy_score(y_pre,prediction)"
      ],
      "execution_count": 75,
      "outputs": [
        {
          "output_type": "execute_result",
          "data": {
            "text/plain": [
              "0.5414110429447853"
            ]
          },
          "metadata": {
            "tags": []
          },
          "execution_count": 75
        }
      ]
    }
  ]
}